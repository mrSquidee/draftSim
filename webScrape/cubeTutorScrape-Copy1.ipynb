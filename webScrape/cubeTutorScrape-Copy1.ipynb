{
 "cells": [
  {
   "cell_type": "code",
   "execution_count": 6,
   "metadata": {},
   "outputs": [],
   "source": [
    "import bs4\n",
    "from urllib.request import urlopen as uReq\n",
    "from bs4 import BeautifulSoup as soup\n",
    "import csv"
   ]
  },
  {
   "cell_type": "code",
   "execution_count": 7,
   "metadata": {},
   "outputs": [],
   "source": [
    "dataUrls = []\n",
    "\n",
    "for i in range(57):\n",
    "    dataUrls.append('http://tappedout.net/users/CanadianHighlanderDatabase/mtg-decks/?&p=1&page='+str(i+1))\n",
    "\n"
   ]
  },
  {
   "cell_type": "code",
   "execution_count": 42,
   "metadata": {},
   "outputs": [],
   "source": [
    "pages = []\n",
    "for i in dataUrls:\n",
    "    data = uReq(i)\n",
    "\n",
    "    dataHtml = data.read()\n",
    "\n",
    "    dataSoup = soup(dataHtml, 'html.parser')\n",
    "\n",
    "    cards = dataSoup.findAll('h3', {'class': 'name deck-wide-header'})\n",
    "    \n",
    "    rows = []\n",
    "    for j in cards:\n",
    "        row = []\n",
    "        row.append(j.find('a')['title'])\n",
    "        row.append('http://tappedout.net' + j.find('a')['href'])\n",
    "        rows.append(row)\n",
    "    pages.append(rows)"
   ]
  },
  {
   "cell_type": "code",
   "execution_count": 43,
   "metadata": {},
   "outputs": [],
   "source": [
    "fileName = 'canlanderDecks.csv'\n",
    "header = ['Deck', 'Link']\n",
    "\n",
    "with open(fileName, 'w', newline='') as csvfile:\n",
    "    writer = csv.writer(csvfile)\n",
    "    writer.writerow(header)\n",
    "    \n",
    "    for rows in pages:\n",
    "        for row in rows:\n",
    "            writer.writerow(row)\n"
   ]
  },
  {
   "cell_type": "code",
   "execution_count": null,
   "metadata": {},
   "outputs": [],
   "source": []
  }
 ],
 "metadata": {
  "kernelspec": {
   "display_name": "Python 3",
   "language": "python",
   "name": "python3"
  },
  "language_info": {
   "codemirror_mode": {
    "name": "ipython",
    "version": 3
   },
   "file_extension": ".py",
   "mimetype": "text/x-python",
   "name": "python",
   "nbconvert_exporter": "python",
   "pygments_lexer": "ipython3",
   "version": "3.7.0"
  }
 },
 "nbformat": 4,
 "nbformat_minor": 2
}
