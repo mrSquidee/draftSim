{
 "cells": [
  {
   "cell_type": "code",
   "execution_count": 86,
   "metadata": {},
   "outputs": [],
   "source": [
    "import bs4\n",
    "from urllib.request import urlopen as uReq\n",
    "from bs4 import BeautifulSoup as soup\n",
    "import csv"
   ]
  },
  {
   "cell_type": "code",
   "execution_count": 206,
   "metadata": {},
   "outputs": [],
   "source": [
    "dataUrls = []\n",
    "\n",
    "for i in range(185):\n",
    "    dataUrls.append('http://www.cubetutor.com/topcards.pickordergrid.pager/'+str(i+1)+'/pickOrderGrid?t:ac=1')\n",
    "\n"
   ]
  },
  {
   "cell_type": "code",
   "execution_count": 207,
   "metadata": {},
   "outputs": [],
   "source": [
    "pages = []\n",
    "for i in dataUrls:\n",
    "    data = uReq(i)\n",
    "\n",
    "    dataHtml = data.read()\n",
    "\n",
    "    dataSoup = soup(dataHtml, 'html.parser')\n",
    "\n",
    "    cards = dataSoup.tbody.findAll('tr')\n",
    "\n",
    "    rows = []\n",
    "    for i in cards:\n",
    "        row = []\n",
    "        row.append(i.findAll('td', {'class': 'cardName'})[0].string)\n",
    "        row.append(i.findAll('td', {'class': 'pickCount'})[0].string)\n",
    "        row.append(i.findAll('td', {'class': 'pickPercentage'})[0].string[1:-2])\n",
    "        row.append(i.findAll('td', {'class': 'cubeCount'})[0].string)\n",
    "        rows.append(row)\n",
    "    pages.append(rows)"
   ]
  },
  {
   "cell_type": "code",
   "execution_count": 208,
   "metadata": {},
   "outputs": [],
   "source": [
    "fileName = 'cubeTutor.csv'\n",
    "header = ['Card Name', 'Pick Count', 'Pick Percentage', 'Cube Count']\n",
    "\n",
    "with open(fileName, 'w', newline='') as csvfile:\n",
    "    writer = csv.writer(csvfile)\n",
    "    writer.writerow(header)\n",
    "    \n",
    "    for rows in pages:\n",
    "        for row in rows:\n",
    "            writer.writerow(row)\n",
    "    \n",
    "    \n",
    "        "
   ]
  },
  {
   "cell_type": "code",
   "execution_count": 149,
   "metadata": {},
   "outputs": [],
   "source": [
    "f.close()"
   ]
  }
 ],
 "metadata": {
  "kernelspec": {
   "display_name": "Python 3",
   "language": "python",
   "name": "python3"
  },
  "language_info": {
   "codemirror_mode": {
    "name": "ipython",
    "version": 3
   },
   "file_extension": ".py",
   "mimetype": "text/x-python",
   "name": "python",
   "nbconvert_exporter": "python",
   "pygments_lexer": "ipython3",
   "version": "3.7.0"
  }
 },
 "nbformat": 4,
 "nbformat_minor": 2
}
